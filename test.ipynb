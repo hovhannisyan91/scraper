{
 "cells": [
  {
   "cell_type": "code",
   "execution_count": 2,
   "metadata": {},
   "outputs": [],
   "source": [
    "import pandas as pd\n",
    "from bs4 import BeautifulSoup\n",
    "import requests\n",
    "import re"
   ]
  },
  {
   "cell_type": "code",
   "execution_count": 93,
   "metadata": {},
   "outputs": [],
   "source": [
    "search=driver.find_element(By.CLASS_NAME,'search-global-typeahead__input')\n",
    "search.send_keys('dentist')\n",
    "search.send_keys(Keys.RETURN)"
   ]
  },
  {
   "cell_type": "code",
   "execution_count": 94,
   "metadata": {},
   "outputs": [],
   "source": [
    "people=driver.find_element(By.XPATH,'//*[@id=\"search-reusables__filters-bar\"]/ul/li[1]/button')\n",
    "people.click()"
   ]
  },
  {
   "cell_type": "code",
   "execution_count": 98,
   "metadata": {},
   "outputs": [],
   "source": [
    "from selenium.webdriver.support.ui import Select\n",
    "\n",
    "locations=driver.find_element(By.XPATH,'//*[@id=\"searchFilter_geoUrn\"]')\n",
    "locations.click()\n",
    "\n",
    "options_search=driver.find_element(By.CSS_SELECTOR,'input[placeholder=\"Add a location\"]')\n",
    "# driver.find_element_by(By.XPATH,'//*[@id=\"artdeco-hoverable-artdeco-gen-58\"]/div[1]/div/form/fieldset/div[1]/div/div/input')\n",
    "options_search.send_keys('Armenia')\n",
    "options_search.send_keys(Keys.RETURN)\n",
    "# //*[@id=\"artdeco-hoverable-artdeco-gen-65\"]/div[1]/div/form/fieldset/div[1]/div/div/input\n",
    "first_option=driver.find_element(By.ID,'basic')\n",
    "\n"
   ]
  },
  {
   "cell_type": "code",
   "execution_count": 68,
   "metadata": {},
   "outputs": [
    {
     "ename": "WebDriverException",
     "evalue": "Message: disconnected: not connected to DevTools\n  (failed to check if window was closed: disconnected: not connected to DevTools)\n  (Session info: chrome=119.0.6045.159)\nStacktrace:\n0   chromedriver                        0x0000000100a96004 chromedriver + 4169732\n1   chromedriver                        0x0000000100a8dff8 chromedriver + 4136952\n2   chromedriver                        0x00000001006e3500 chromedriver + 292096\n3   chromedriver                        0x00000001006cb094 chromedriver + 192660\n4   chromedriver                        0x00000001006caf9c chromedriver + 192412\n5   chromedriver                        0x0000000100762fc8 chromedriver + 815048\n6   chromedriver                        0x000000010071c5e8 chromedriver + 525800\n7   chromedriver                        0x000000010071d4b8 chromedriver + 529592\n8   chromedriver                        0x0000000100a5c334 chromedriver + 3932980\n9   chromedriver                        0x0000000100a60970 chromedriver + 3950960\n10  chromedriver                        0x0000000100a44774 chromedriver + 3835764\n11  chromedriver                        0x0000000100a61478 chromedriver + 3953784\n12  chromedriver                        0x0000000100a36ab4 chromedriver + 3779252\n13  chromedriver                        0x0000000100a7d914 chromedriver + 4069652\n14  chromedriver                        0x0000000100a7da90 chromedriver + 4070032\n15  chromedriver                        0x0000000100a8dc70 chromedriver + 4136048\n16  libsystem_pthread.dylib             0x000000018acfd034 _pthread_start + 136\n17  libsystem_pthread.dylib             0x000000018acf7e3c thread_start + 8\n",
     "output_type": "error",
     "traceback": [
      "\u001b[0;31m---------------------------------------------------------------------------\u001b[0m",
      "\u001b[0;31mWebDriverException\u001b[0m                        Traceback (most recent call last)",
      "\u001b[1;32m/Users/karen/Desktop/scraper/test.ipynb Cell 13\u001b[0m line \u001b[0;36m1\n\u001b[0;32m----> <a href='vscode-notebook-cell:/Users/karen/Desktop/scraper/test.ipynb#X16sZmlsZQ%3D%3D?line=0'>1</a>\u001b[0m driver\u001b[39m.\u001b[39;49mfind_element(By\u001b[39m.\u001b[39;49mXPATH,\u001b[39m'\u001b[39;49m\u001b[39m//*[@id=\u001b[39;49m\u001b[39m\"\u001b[39;49m\u001b[39mbasic-result-nf7ii8\u001b[39;49m\u001b[39m\"\u001b[39;49m\u001b[39m]/div/span/span\u001b[39;49m\u001b[39m'\u001b[39;49m)\u001b[39m.\u001b[39mclick()\n",
      "File \u001b[0;32m~/Desktop/scraper/venv/lib/python3.10/site-packages/selenium/webdriver/remote/webdriver.py:741\u001b[0m, in \u001b[0;36mWebDriver.find_element\u001b[0;34m(self, by, value)\u001b[0m\n\u001b[1;32m    738\u001b[0m     by \u001b[39m=\u001b[39m By\u001b[39m.\u001b[39mCSS_SELECTOR\n\u001b[1;32m    739\u001b[0m     value \u001b[39m=\u001b[39m \u001b[39mf\u001b[39m\u001b[39m'\u001b[39m\u001b[39m[name=\u001b[39m\u001b[39m\"\u001b[39m\u001b[39m{\u001b[39;00mvalue\u001b[39m}\u001b[39;00m\u001b[39m\"\u001b[39m\u001b[39m]\u001b[39m\u001b[39m'\u001b[39m\n\u001b[0;32m--> 741\u001b[0m \u001b[39mreturn\u001b[39;00m \u001b[39mself\u001b[39;49m\u001b[39m.\u001b[39;49mexecute(Command\u001b[39m.\u001b[39;49mFIND_ELEMENT, {\u001b[39m\"\u001b[39;49m\u001b[39musing\u001b[39;49m\u001b[39m\"\u001b[39;49m: by, \u001b[39m\"\u001b[39;49m\u001b[39mvalue\u001b[39;49m\u001b[39m\"\u001b[39;49m: value})[\u001b[39m\"\u001b[39m\u001b[39mvalue\u001b[39m\u001b[39m\"\u001b[39m]\n",
      "File \u001b[0;32m~/Desktop/scraper/venv/lib/python3.10/site-packages/selenium/webdriver/remote/webdriver.py:347\u001b[0m, in \u001b[0;36mWebDriver.execute\u001b[0;34m(self, driver_command, params)\u001b[0m\n\u001b[1;32m    345\u001b[0m response \u001b[39m=\u001b[39m \u001b[39mself\u001b[39m\u001b[39m.\u001b[39mcommand_executor\u001b[39m.\u001b[39mexecute(driver_command, params)\n\u001b[1;32m    346\u001b[0m \u001b[39mif\u001b[39;00m response:\n\u001b[0;32m--> 347\u001b[0m     \u001b[39mself\u001b[39;49m\u001b[39m.\u001b[39;49merror_handler\u001b[39m.\u001b[39;49mcheck_response(response)\n\u001b[1;32m    348\u001b[0m     response[\u001b[39m\"\u001b[39m\u001b[39mvalue\u001b[39m\u001b[39m\"\u001b[39m] \u001b[39m=\u001b[39m \u001b[39mself\u001b[39m\u001b[39m.\u001b[39m_unwrap_value(response\u001b[39m.\u001b[39mget(\u001b[39m\"\u001b[39m\u001b[39mvalue\u001b[39m\u001b[39m\"\u001b[39m, \u001b[39mNone\u001b[39;00m))\n\u001b[1;32m    349\u001b[0m     \u001b[39mreturn\u001b[39;00m response\n",
      "File \u001b[0;32m~/Desktop/scraper/venv/lib/python3.10/site-packages/selenium/webdriver/remote/errorhandler.py:229\u001b[0m, in \u001b[0;36mErrorHandler.check_response\u001b[0;34m(self, response)\u001b[0m\n\u001b[1;32m    227\u001b[0m         alert_text \u001b[39m=\u001b[39m value[\u001b[39m\"\u001b[39m\u001b[39malert\u001b[39m\u001b[39m\"\u001b[39m]\u001b[39m.\u001b[39mget(\u001b[39m\"\u001b[39m\u001b[39mtext\u001b[39m\u001b[39m\"\u001b[39m)\n\u001b[1;32m    228\u001b[0m     \u001b[39mraise\u001b[39;00m exception_class(message, screen, stacktrace, alert_text)  \u001b[39m# type: ignore[call-arg]  # mypy is not smart enough here\u001b[39;00m\n\u001b[0;32m--> 229\u001b[0m \u001b[39mraise\u001b[39;00m exception_class(message, screen, stacktrace)\n",
      "\u001b[0;31mWebDriverException\u001b[0m: Message: disconnected: not connected to DevTools\n  (failed to check if window was closed: disconnected: not connected to DevTools)\n  (Session info: chrome=119.0.6045.159)\nStacktrace:\n0   chromedriver                        0x0000000100a96004 chromedriver + 4169732\n1   chromedriver                        0x0000000100a8dff8 chromedriver + 4136952\n2   chromedriver                        0x00000001006e3500 chromedriver + 292096\n3   chromedriver                        0x00000001006cb094 chromedriver + 192660\n4   chromedriver                        0x00000001006caf9c chromedriver + 192412\n5   chromedriver                        0x0000000100762fc8 chromedriver + 815048\n6   chromedriver                        0x000000010071c5e8 chromedriver + 525800\n7   chromedriver                        0x000000010071d4b8 chromedriver + 529592\n8   chromedriver                        0x0000000100a5c334 chromedriver + 3932980\n9   chromedriver                        0x0000000100a60970 chromedriver + 3950960\n10  chromedriver                        0x0000000100a44774 chromedriver + 3835764\n11  chromedriver                        0x0000000100a61478 chromedriver + 3953784\n12  chromedriver                        0x0000000100a36ab4 chromedriver + 3779252\n13  chromedriver                        0x0000000100a7d914 chromedriver + 4069652\n14  chromedriver                        0x0000000100a7da90 chromedriver + 4070032\n15  chromedriver                        0x0000000100a8dc70 chromedriver + 4136048\n16  libsystem_pthread.dylib             0x000000018acfd034 _pthread_start + 136\n17  libsystem_pthread.dylib             0x000000018acf7e3c thread_start + 8\n"
     ]
    }
   ],
   "source": [
    "# driver.find_element(By.XPATH,'//*[@id=\"basic-result-nf7ii8\"]/div/span/span').click()"
   ]
  },
  {
   "cell_type": "code",
   "execution_count": 2,
   "metadata": {},
   "outputs": [
    {
     "data": {
      "text/plain": [
       "(200, 15)"
      ]
     },
     "execution_count": 2,
     "metadata": {},
     "output_type": "execute_result"
    }
   ],
   "source": [
    "import pandas as pd\n",
    "data=pd.read_csv(\"spyur_data_clinics.csv\")\n",
    "data.shape"
   ]
  },
  {
   "cell_type": "code",
   "execution_count": 3,
   "metadata": {},
   "outputs": [
    {
     "data": {
      "text/html": [
       "<div>\n",
       "<style scoped>\n",
       "    .dataframe tbody tr th:only-of-type {\n",
       "        vertical-align: middle;\n",
       "    }\n",
       "\n",
       "    .dataframe tbody tr th {\n",
       "        vertical-align: top;\n",
       "    }\n",
       "\n",
       "    .dataframe thead th {\n",
       "        text-align: right;\n",
       "    }\n",
       "</style>\n",
       "<table border=\"1\" class=\"dataframe\">\n",
       "  <thead>\n",
       "    <tr style=\"text-align: right;\">\n",
       "      <th></th>\n",
       "      <th>Name</th>\n",
       "      <th>Country</th>\n",
       "      <th>Zip Code</th>\n",
       "      <th>City</th>\n",
       "      <th>Street Address</th>\n",
       "      <th>District</th>\n",
       "      <th>Phone Number 1</th>\n",
       "      <th>Phone Number 2</th>\n",
       "      <th>Website</th>\n",
       "      <th>Facebook</th>\n",
       "      <th>Instagram</th>\n",
       "      <th>Phone Number 3</th>\n",
       "      <th>Phone Number 4</th>\n",
       "      <th>YouTube</th>\n",
       "      <th>Phone Number 5</th>\n",
       "    </tr>\n",
       "  </thead>\n",
       "  <tbody>\n",
       "    <tr>\n",
       "      <th>0</th>\n",
       "      <td>«ԱՆԻ ԷՍԹԵՏԻԿԱ» ԴԻՄԱԾՆՈՏԱՅԻՆ ԵՎ ԷՍԹԵՏԻԿ ՎԻՐԱԲՈՒ...</td>\n",
       "      <td>Հայաստան</td>\n",
       "      <td>0008</td>\n",
       "      <td>Երևան</td>\n",
       "      <td>Մովսես Խորենացու փող., 160/3 շենք</td>\n",
       "      <td>(Էրեբունի վարչ. շրջան)</td>\n",
       "      <td>3.741153e+10</td>\n",
       "      <td>3.743353e+10</td>\n",
       "      <td>Spyur</td>\n",
       "      <td>https://www.facebook.com/aniesthetica</td>\n",
       "      <td>https://www.instagram.com/aniesthetica</td>\n",
       "      <td>NaN</td>\n",
       "      <td>NaN</td>\n",
       "      <td>NaN</td>\n",
       "      <td>NaN</td>\n",
       "    </tr>\n",
       "    <tr>\n",
       "      <th>1</th>\n",
       "      <td>«ՀԵՐԱՑԻ» ԹԻՎ 1 ՀԻՎԱՆԴԱՆՈՑԱՅԻՆ ՀԱՄԱԼԻՐ (ԵՐԵՎԱՆԻ...</td>\n",
       "      <td>Հայաստան</td>\n",
       "      <td>0025</td>\n",
       "      <td>Երևան</td>\n",
       "      <td>Աբովյան փող., 60 շենք, շինություն 1</td>\n",
       "      <td>(Կենտրոն վարչ. շրջան)</td>\n",
       "      <td>NaN</td>\n",
       "      <td>3.741058e+13</td>\n",
       "      <td>http://www.ysmu.am</td>\n",
       "      <td>NaN</td>\n",
       "      <td>NaN</td>\n",
       "      <td>NaN</td>\n",
       "      <td>NaN</td>\n",
       "      <td>NaN</td>\n",
       "      <td>NaN</td>\n",
       "    </tr>\n",
       "    <tr>\n",
       "      <th>2</th>\n",
       "      <td>«ԴԻԱԼԱԲ» ԲԺՇԿԱԿԱՆ ԿԵՆՏՐՈՆ ԵՎ ԿԼԻՆԻԿԱԿԱՆ ԱԽՏՈՐՈ...</td>\n",
       "      <td>Հայաստան</td>\n",
       "      <td>0051</td>\n",
       "      <td>Երևան</td>\n",
       "      <td>Մամիկոնյանց փող., 41 շենք</td>\n",
       "      <td>(Արաբկիր վարչ. շրջան)</td>\n",
       "      <td>NaN</td>\n",
       "      <td>3.741023e+10</td>\n",
       "      <td>http://www.dialab.am</td>\n",
       "      <td>https://www.facebook.com/dialabmedicalcenter</td>\n",
       "      <td>https://www.instagram.com/dialab_medical_center</td>\n",
       "      <td>3.741024e+10</td>\n",
       "      <td>3.749923e+10</td>\n",
       "      <td>NaN</td>\n",
       "      <td>NaN</td>\n",
       "    </tr>\n",
       "    <tr>\n",
       "      <th>3</th>\n",
       "      <td>«ՎԻՏԱՄԵԴ» ԲԺՇԿԱԿԱՆ ԿԵՆՏՐՈՆ («ՎԻՏԱ ՄԵԴ» սահմանա...</td>\n",
       "      <td>Հայաստան</td>\n",
       "      <td>0048</td>\n",
       "      <td>Երևան</td>\n",
       "      <td>Բեկնազարյան փող., 3/6 շենք</td>\n",
       "      <td>(Աջափնյակ վարչ. շրջան)</td>\n",
       "      <td>3.745536e+10</td>\n",
       "      <td>3.741230e+10</td>\n",
       "      <td>https://www.vitamed.am</td>\n",
       "      <td>https://www.facebook.com/VitamedMC</td>\n",
       "      <td>https://www.instagram.com/vitamed_mc_yerevan</td>\n",
       "      <td>NaN</td>\n",
       "      <td>NaN</td>\n",
       "      <td>https://www.youtube.com/@vitamedmc7246</td>\n",
       "      <td>NaN</td>\n",
       "    </tr>\n",
       "    <tr>\n",
       "      <th>4</th>\n",
       "      <td>ՈՂՆԱՇԱՐԻ ՀԻՎԱՆԴՈՒԹՅՈՒՆՆԵՐԻ ԲՈՒԺՄԱՆ ՀԱՅ-ԱՄԵՐԻԿՅ...</td>\n",
       "      <td>Հայաստան</td>\n",
       "      <td>0015</td>\n",
       "      <td>Երևան</td>\n",
       "      <td>Իսրայելյան փող., 21 շենք (Սուրբ Սարգիս եկեղեցո...</td>\n",
       "      <td>(Կենտրոն վարչ. շրջան)</td>\n",
       "      <td>NaN</td>\n",
       "      <td>3.749842e+10</td>\n",
       "      <td>http://AmericanSpineInstitute.net</td>\n",
       "      <td>https://www.facebook.com/AmericanSpineInstitut...</td>\n",
       "      <td>NaN</td>\n",
       "      <td>3.743342e+10</td>\n",
       "      <td>NaN</td>\n",
       "      <td>NaN</td>\n",
       "      <td>NaN</td>\n",
       "    </tr>\n",
       "  </tbody>\n",
       "</table>\n",
       "</div>"
      ],
      "text/plain": [
       "                                                Name   Country Zip Code  \\\n",
       "0  «ԱՆԻ ԷՍԹԵՏԻԿԱ» ԴԻՄԱԾՆՈՏԱՅԻՆ ԵՎ ԷՍԹԵՏԻԿ ՎԻՐԱԲՈՒ...  Հայաստան     0008   \n",
       "1  «ՀԵՐԱՑԻ» ԹԻՎ 1 ՀԻՎԱՆԴԱՆՈՑԱՅԻՆ ՀԱՄԱԼԻՐ (ԵՐԵՎԱՆԻ...  Հայաստան     0025   \n",
       "2  «ԴԻԱԼԱԲ» ԲԺՇԿԱԿԱՆ ԿԵՆՏՐՈՆ ԵՎ ԿԼԻՆԻԿԱԿԱՆ ԱԽՏՈՐՈ...  Հայաստան     0051   \n",
       "3  «ՎԻՏԱՄԵԴ» ԲԺՇԿԱԿԱՆ ԿԵՆՏՐՈՆ («ՎԻՏԱ ՄԵԴ» սահմանա...  Հայաստան     0048   \n",
       "4  ՈՂՆԱՇԱՐԻ ՀԻՎԱՆԴՈՒԹՅՈՒՆՆԵՐԻ ԲՈՒԺՄԱՆ ՀԱՅ-ԱՄԵՐԻԿՅ...  Հայաստան     0015   \n",
       "\n",
       "     City                                     Street Address  \\\n",
       "0   Երևան                  Մովսես Խորենացու փող., 160/3 շենք   \n",
       "1   Երևան                Աբովյան փող., 60 շենք, շինություն 1   \n",
       "2   Երևան                          Մամիկոնյանց փող., 41 շենք   \n",
       "3   Երևան                         Բեկնազարյան փող., 3/6 շենք   \n",
       "4   Երևան  Իսրայելյան փող., 21 շենք (Սուրբ Սարգիս եկեղեցո...   \n",
       "\n",
       "                 District  Phone Number 1  Phone Number 2  \\\n",
       "0  (Էրեբունի վարչ. շրջան)    3.741153e+10    3.743353e+10   \n",
       "1   (Կենտրոն վարչ. շրջան)             NaN    3.741058e+13   \n",
       "2   (Արաբկիր վարչ. շրջան)             NaN    3.741023e+10   \n",
       "3  (Աջափնյակ վարչ. շրջան)    3.745536e+10    3.741230e+10   \n",
       "4   (Կենտրոն վարչ. շրջան)             NaN    3.749842e+10   \n",
       "\n",
       "                             Website  \\\n",
       "0                              Spyur   \n",
       "1                 http://www.ysmu.am   \n",
       "2               http://www.dialab.am   \n",
       "3             https://www.vitamed.am   \n",
       "4  http://AmericanSpineInstitute.net   \n",
       "\n",
       "                                            Facebook  \\\n",
       "0              https://www.facebook.com/aniesthetica   \n",
       "1                                                NaN   \n",
       "2       https://www.facebook.com/dialabmedicalcenter   \n",
       "3                 https://www.facebook.com/VitamedMC   \n",
       "4  https://www.facebook.com/AmericanSpineInstitut...   \n",
       "\n",
       "                                         Instagram  Phone Number 3  \\\n",
       "0           https://www.instagram.com/aniesthetica             NaN   \n",
       "1                                              NaN             NaN   \n",
       "2  https://www.instagram.com/dialab_medical_center    3.741024e+10   \n",
       "3     https://www.instagram.com/vitamed_mc_yerevan             NaN   \n",
       "4                                              NaN    3.743342e+10   \n",
       "\n",
       "   Phone Number 4                                 YouTube  Phone Number 5  \n",
       "0             NaN                                     NaN             NaN  \n",
       "1             NaN                                     NaN             NaN  \n",
       "2    3.749923e+10                                     NaN             NaN  \n",
       "3             NaN  https://www.youtube.com/@vitamedmc7246             NaN  \n",
       "4             NaN                                     NaN             NaN  "
      ]
     },
     "execution_count": 3,
     "metadata": {},
     "output_type": "execute_result"
    }
   ],
   "source": [
    "data.head()\n"
   ]
  },
  {
   "cell_type": "code",
   "execution_count": 63,
   "metadata": {},
   "outputs": [],
   "source": [
    "from selenium import webdriver\n",
    "from selenium.webdriver.common.by import By\n",
    "from selenium.webdriver.chrome.service import Service\n",
    "from selenium.webdriver.support.ui import WebDriverWait\n",
    "from selenium.webdriver.support import expected_conditions as EC\n",
    "from webdriver_manager.chrome import ChromeDriverManager\n",
    "\n",
    "# Set up the Selenium WebDriver\n",
    "service = Service(ChromeDriverManager().install())\n",
    "driver = webdriver.Chrome(service=service)\n",
    "\n",
    "# Open the Wikipedia page\n",
    "url = \"https://simple.m.wikipedia.org/wiki/List_of_countries\"\n",
    "driver.get(url)"
   ]
  },
  {
   "cell_type": "code",
   "execution_count": 64,
   "metadata": {},
   "outputs": [],
   "source": [
    "# Initialize an empty list to store all countries\n",
    "all_countries = []"
   ]
  },
  {
   "cell_type": "code",
   "execution_count": null,
   "metadata": {},
   "outputs": [
    {
     "name": "stdout",
     "output_type": "stream",
     "text": [
      "['Afghanistan', 'Albania', 'Algeria', 'Andorra', 'Angola', 'Antigua and Barbuda', 'Argentina', 'Armenia', 'Australia', 'Austria', 'Azerbaijan', 'Bahamas', 'Bahrain', 'Bangladesh', 'Barbados', 'Belarus', 'Belgium', 'Belize', 'Benin', 'Bhutan', 'Bolivia', 'Bosnia and Herzegovina', 'Botswana', 'Brazil', 'Brunei', 'Bulgaria', 'Burkina Faso', 'Burundi', 'Cabo Verde', 'Cambodia', 'Cameroon', 'Canada', 'Central African Republic', 'Chad', 'Chile', 'China', 'Colombia', 'Comoros', 'Congo, Democratic Republic of the', 'Congo, Republic of the', 'Costa Rica', 'Croatia', 'Cuba', 'Cyprus', 'Czech Republic', 'Denmark', 'Djibouti', 'Dominica', 'Dominican Republic', 'East Timor', 'Ecuador', 'Egypt', 'El Salvador', 'Equatorial Guinea', 'Eritrea', 'Estonia', 'Eswatini', 'Ethiopia', 'Fiji', 'Finland', 'France', 'Gabon', 'Gambia', 'Georgia', 'Germany', 'Ghana', 'Greece', 'Grenada', 'Guatemala', 'Guinea', 'Guinea-Bissau', 'Guyana', 'Haiti', 'Honduras', 'Hungary', 'Iceland', 'India', 'Indonesia', 'Iran', 'Iraq', 'Ireland', 'Israel', 'Italy', 'Ivory Coast', 'Jamaica', 'Japan', 'Jordan', 'Kazakhstan', 'Kenya', 'Kiribati', 'Korea, North', 'Korea, South', 'Kuwait', 'Kyrgyzstan', 'Laos', 'Latvia', 'Lebanon', 'Lesotho', 'Liberia', 'Libya', 'Liechtenstein', 'Lithuania', 'Luxembourg', 'Madagascar', 'Malawi', 'Malaysia', 'Maldives', 'Mali', 'Malta', 'Marshall Islands', 'Mauritania', 'Mauritius', 'Mexico', 'Micronesia', 'Moldova', 'Monaco', 'Mongolia', 'Montenegro', 'Morocco', 'Mozambique', 'Myanmar', 'Namibia', 'Nauru', 'Nepal', 'Netherlands', 'New Zealand', 'Nicaragua', 'Niger', 'Nigeria', 'North Macedonia', 'Norway', 'Oman', 'Pakistan', 'Palau', 'Palestine', 'Panama', 'Papua New Guinea', 'Paraguay', 'Peru', 'Philippines', 'Poland', 'Portugal', 'Qatar', 'Romania', 'Russia', 'Rwanda', 'Saint Kitts and Nevis', 'Saint Lucia', 'Saint Vincent and the Grenadines', 'Samoa', 'San Marino', 'São Tomé and Príncipe', 'Saudi Arabia', 'Senegal', 'Serbia', 'Seychelles', 'Sierra Leone', 'Singapore', 'Slovakia', 'Slovenia', 'Solomon Islands', 'Somalia', 'South Africa', 'South Sudan', 'Spain', 'Sri Lanka', 'Sudan', 'Suriname', 'Sweden', 'Switzerland', 'Syria', 'Taiwan', 'Tajikistan', 'Tanzania', 'Thailand', 'Togo', 'Tonga', 'Trinidad and Tobago', 'Tunisia', 'Turkey', 'Turkmenistan', 'Tuvalu', 'Uganda', 'Ukraine', 'United Arab Emirates', 'United Kingdom', 'United States', 'Uruguay', 'Uzbekistan', 'Vanuatu', 'Vatican City', 'Venezuela', 'Vietnam', 'Yemen', 'Zambia', 'Zimbabwe']\n"
     ]
    }
   ],
   "source": [
    "from selenium import webdriver\n",
    "from selenium.webdriver.common.by import By\n",
    "from selenium.webdriver.chrome.service import Service\n",
    "from selenium.webdriver.support.ui import WebDriverWait\n",
    "from selenium.webdriver.support import expected_conditions as EC\n",
    "from webdriver_manager.chrome import ChromeDriverManager\n",
    "\n",
    "# Set up the Selenium WebDriver\n",
    "service = Service(ChromeDriverManager().install())\n",
    "driver = webdriver.Chrome(service=service)\n",
    "\n",
    "# Open the Wikipedia page\n",
    "url = \"https://simple.m.wikipedia.org/wiki/List_of_countries\"\n",
    "driver.get(url)\n",
    "\n",
    "all_countries = []\n",
    "for i in range(1, 25):\n",
    "    section_class = f\"mf-section-{i}\"\n",
    "    \n",
    "    try:\n",
    "        \n",
    "        WebDriverWait(driver, 5).until(EC.presence_of_element_located((By.CLASS_NAME, section_class)))\n",
    "\n",
    "        \n",
    "        sections = driver.find_elements(By.CLASS_NAME, section_class)\n",
    "\n",
    "        \n",
    "        for section in sections:\n",
    "            text = section.text.strip()  \n",
    "            countries = [country.strip() for country in text.split(\" – \")]\n",
    "            all_countries.extend(countries)  \n",
    "\n",
    "    except Exception as e:\n",
    "        print(f\"Skipping {section_class} (Not found or empty)\")\n",
    "\n",
    "\n",
    "print(all_countries)\n"
   ]
  },
  {
   "cell_type": "code",
   "execution_count": 49,
   "metadata": {},
   "outputs": [
    {
     "name": "stdout",
     "output_type": "stream",
     "text": [
      " Bahamas –  Bahrain –  Bangladesh –  Barbados –  Belarus –  Belgium –  Belize –  Benin –  Bhutan –  Bolivia –  Bosnia and Herzegovina –  Botswana –  Brazil –  Brunei –  Bulgaria –  Burkina Faso –  Burundi\n",
      "------\n"
     ]
    }
   ],
   "source": [
    "for i in sections:\n",
    "    print(i.text)\n",
    "    print(\"------\")"
   ]
  },
  {
   "cell_type": "markdown",
   "metadata": {},
   "source": []
  },
  {
   "cell_type": "code",
   "execution_count": null,
   "metadata": {},
   "outputs": [],
   "source": []
  }
 ],
 "metadata": {
  "kernelspec": {
   "display_name": "venv",
   "language": "python",
   "name": "python3"
  },
  "language_info": {
   "codemirror_mode": {
    "name": "ipython",
    "version": 3
   },
   "file_extension": ".py",
   "mimetype": "text/x-python",
   "name": "python",
   "nbconvert_exporter": "python",
   "pygments_lexer": "ipython3",
   "version": "3.10.7"
  }
 },
 "nbformat": 4,
 "nbformat_minor": 2
}
