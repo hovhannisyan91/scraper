{
 "cells": [
  {
   "cell_type": "code",
   "execution_count": 2,
   "metadata": {},
   "outputs": [],
   "source": [
    "import pandas as pd\n",
    "from bs4 import BeautifulSoup\n",
    "import requests\n",
    "import re"
   ]
  },
  {
   "cell_type": "code",
   "execution_count": 93,
   "metadata": {},
   "outputs": [],
   "source": [
    "search=driver.find_element(By.CLASS_NAME,'search-global-typeahead__input')\n",
    "search.send_keys('dentist')\n",
    "search.send_keys(Keys.RETURN)"
   ]
  },
  {
   "cell_type": "code",
   "execution_count": 94,
   "metadata": {},
   "outputs": [],
   "source": [
    "people=driver.find_element(By.XPATH,'//*[@id=\"search-reusables__filters-bar\"]/ul/li[1]/button')\n",
    "people.click()"
   ]
  },
  {
   "cell_type": "code",
   "execution_count": 98,
   "metadata": {},
   "outputs": [],
   "source": [
    "from selenium.webdriver.support.ui import Select\n",
    "\n",
    "locations=driver.find_element(By.XPATH,'//*[@id=\"searchFilter_geoUrn\"]')\n",
    "locations.click()\n",
    "\n",
    "options_search=driver.find_element(By.CSS_SELECTOR,'input[placeholder=\"Add a location\"]')\n",
    "# driver.find_element_by(By.XPATH,'//*[@id=\"artdeco-hoverable-artdeco-gen-58\"]/div[1]/div/form/fieldset/div[1]/div/div/input')\n",
    "options_search.send_keys('Armenia')\n",
    "options_search.send_keys(Keys.RETURN)\n",
    "# //*[@id=\"artdeco-hoverable-artdeco-gen-65\"]/div[1]/div/form/fieldset/div[1]/div/div/input\n",
    "first_option=driver.find_element(By.ID,'basic')\n",
    "\n"
   ]
  },
  {
   "cell_type": "code",
   "execution_count": 68,
   "metadata": {},
   "outputs": [
    {
     "ename": "WebDriverException",
     "evalue": "Message: disconnected: not connected to DevTools\n  (failed to check if window was closed: disconnected: not connected to DevTools)\n  (Session info: chrome=119.0.6045.159)\nStacktrace:\n0   chromedriver                        0x0000000100a96004 chromedriver + 4169732\n1   chromedriver                        0x0000000100a8dff8 chromedriver + 4136952\n2   chromedriver                        0x00000001006e3500 chromedriver + 292096\n3   chromedriver                        0x00000001006cb094 chromedriver + 192660\n4   chromedriver                        0x00000001006caf9c chromedriver + 192412\n5   chromedriver                        0x0000000100762fc8 chromedriver + 815048\n6   chromedriver                        0x000000010071c5e8 chromedriver + 525800\n7   chromedriver                        0x000000010071d4b8 chromedriver + 529592\n8   chromedriver                        0x0000000100a5c334 chromedriver + 3932980\n9   chromedriver                        0x0000000100a60970 chromedriver + 3950960\n10  chromedriver                        0x0000000100a44774 chromedriver + 3835764\n11  chromedriver                        0x0000000100a61478 chromedriver + 3953784\n12  chromedriver                        0x0000000100a36ab4 chromedriver + 3779252\n13  chromedriver                        0x0000000100a7d914 chromedriver + 4069652\n14  chromedriver                        0x0000000100a7da90 chromedriver + 4070032\n15  chromedriver                        0x0000000100a8dc70 chromedriver + 4136048\n16  libsystem_pthread.dylib             0x000000018acfd034 _pthread_start + 136\n17  libsystem_pthread.dylib             0x000000018acf7e3c thread_start + 8\n",
     "output_type": "error",
     "traceback": [
      "\u001b[0;31m---------------------------------------------------------------------------\u001b[0m",
      "\u001b[0;31mWebDriverException\u001b[0m                        Traceback (most recent call last)",
      "\u001b[1;32m/Users/karen/Desktop/scraper/test.ipynb Cell 13\u001b[0m line \u001b[0;36m1\n\u001b[0;32m----> <a href='vscode-notebook-cell:/Users/karen/Desktop/scraper/test.ipynb#X16sZmlsZQ%3D%3D?line=0'>1</a>\u001b[0m driver\u001b[39m.\u001b[39;49mfind_element(By\u001b[39m.\u001b[39;49mXPATH,\u001b[39m'\u001b[39;49m\u001b[39m//*[@id=\u001b[39;49m\u001b[39m\"\u001b[39;49m\u001b[39mbasic-result-nf7ii8\u001b[39;49m\u001b[39m\"\u001b[39;49m\u001b[39m]/div/span/span\u001b[39;49m\u001b[39m'\u001b[39;49m)\u001b[39m.\u001b[39mclick()\n",
      "File \u001b[0;32m~/Desktop/scraper/venv/lib/python3.10/site-packages/selenium/webdriver/remote/webdriver.py:741\u001b[0m, in \u001b[0;36mWebDriver.find_element\u001b[0;34m(self, by, value)\u001b[0m\n\u001b[1;32m    738\u001b[0m     by \u001b[39m=\u001b[39m By\u001b[39m.\u001b[39mCSS_SELECTOR\n\u001b[1;32m    739\u001b[0m     value \u001b[39m=\u001b[39m \u001b[39mf\u001b[39m\u001b[39m'\u001b[39m\u001b[39m[name=\u001b[39m\u001b[39m\"\u001b[39m\u001b[39m{\u001b[39;00mvalue\u001b[39m}\u001b[39;00m\u001b[39m\"\u001b[39m\u001b[39m]\u001b[39m\u001b[39m'\u001b[39m\n\u001b[0;32m--> 741\u001b[0m \u001b[39mreturn\u001b[39;00m \u001b[39mself\u001b[39;49m\u001b[39m.\u001b[39;49mexecute(Command\u001b[39m.\u001b[39;49mFIND_ELEMENT, {\u001b[39m\"\u001b[39;49m\u001b[39musing\u001b[39;49m\u001b[39m\"\u001b[39;49m: by, \u001b[39m\"\u001b[39;49m\u001b[39mvalue\u001b[39;49m\u001b[39m\"\u001b[39;49m: value})[\u001b[39m\"\u001b[39m\u001b[39mvalue\u001b[39m\u001b[39m\"\u001b[39m]\n",
      "File \u001b[0;32m~/Desktop/scraper/venv/lib/python3.10/site-packages/selenium/webdriver/remote/webdriver.py:347\u001b[0m, in \u001b[0;36mWebDriver.execute\u001b[0;34m(self, driver_command, params)\u001b[0m\n\u001b[1;32m    345\u001b[0m response \u001b[39m=\u001b[39m \u001b[39mself\u001b[39m\u001b[39m.\u001b[39mcommand_executor\u001b[39m.\u001b[39mexecute(driver_command, params)\n\u001b[1;32m    346\u001b[0m \u001b[39mif\u001b[39;00m response:\n\u001b[0;32m--> 347\u001b[0m     \u001b[39mself\u001b[39;49m\u001b[39m.\u001b[39;49merror_handler\u001b[39m.\u001b[39;49mcheck_response(response)\n\u001b[1;32m    348\u001b[0m     response[\u001b[39m\"\u001b[39m\u001b[39mvalue\u001b[39m\u001b[39m\"\u001b[39m] \u001b[39m=\u001b[39m \u001b[39mself\u001b[39m\u001b[39m.\u001b[39m_unwrap_value(response\u001b[39m.\u001b[39mget(\u001b[39m\"\u001b[39m\u001b[39mvalue\u001b[39m\u001b[39m\"\u001b[39m, \u001b[39mNone\u001b[39;00m))\n\u001b[1;32m    349\u001b[0m     \u001b[39mreturn\u001b[39;00m response\n",
      "File \u001b[0;32m~/Desktop/scraper/venv/lib/python3.10/site-packages/selenium/webdriver/remote/errorhandler.py:229\u001b[0m, in \u001b[0;36mErrorHandler.check_response\u001b[0;34m(self, response)\u001b[0m\n\u001b[1;32m    227\u001b[0m         alert_text \u001b[39m=\u001b[39m value[\u001b[39m\"\u001b[39m\u001b[39malert\u001b[39m\u001b[39m\"\u001b[39m]\u001b[39m.\u001b[39mget(\u001b[39m\"\u001b[39m\u001b[39mtext\u001b[39m\u001b[39m\"\u001b[39m)\n\u001b[1;32m    228\u001b[0m     \u001b[39mraise\u001b[39;00m exception_class(message, screen, stacktrace, alert_text)  \u001b[39m# type: ignore[call-arg]  # mypy is not smart enough here\u001b[39;00m\n\u001b[0;32m--> 229\u001b[0m \u001b[39mraise\u001b[39;00m exception_class(message, screen, stacktrace)\n",
      "\u001b[0;31mWebDriverException\u001b[0m: Message: disconnected: not connected to DevTools\n  (failed to check if window was closed: disconnected: not connected to DevTools)\n  (Session info: chrome=119.0.6045.159)\nStacktrace:\n0   chromedriver                        0x0000000100a96004 chromedriver + 4169732\n1   chromedriver                        0x0000000100a8dff8 chromedriver + 4136952\n2   chromedriver                        0x00000001006e3500 chromedriver + 292096\n3   chromedriver                        0x00000001006cb094 chromedriver + 192660\n4   chromedriver                        0x00000001006caf9c chromedriver + 192412\n5   chromedriver                        0x0000000100762fc8 chromedriver + 815048\n6   chromedriver                        0x000000010071c5e8 chromedriver + 525800\n7   chromedriver                        0x000000010071d4b8 chromedriver + 529592\n8   chromedriver                        0x0000000100a5c334 chromedriver + 3932980\n9   chromedriver                        0x0000000100a60970 chromedriver + 3950960\n10  chromedriver                        0x0000000100a44774 chromedriver + 3835764\n11  chromedriver                        0x0000000100a61478 chromedriver + 3953784\n12  chromedriver                        0x0000000100a36ab4 chromedriver + 3779252\n13  chromedriver                        0x0000000100a7d914 chromedriver + 4069652\n14  chromedriver                        0x0000000100a7da90 chromedriver + 4070032\n15  chromedriver                        0x0000000100a8dc70 chromedriver + 4136048\n16  libsystem_pthread.dylib             0x000000018acfd034 _pthread_start + 136\n17  libsystem_pthread.dylib             0x000000018acf7e3c thread_start + 8\n"
     ]
    }
   ],
   "source": [
    "# driver.find_element(By.XPATH,'//*[@id=\"basic-result-nf7ii8\"]/div/span/span').click()"
   ]
  },
  {
   "cell_type": "code",
   "execution_count": null,
   "metadata": {},
   "outputs": [],
   "source": []
  }
 ],
 "metadata": {
  "kernelspec": {
   "display_name": "venv",
   "language": "python",
   "name": "python3"
  },
  "language_info": {
   "codemirror_mode": {
    "name": "ipython",
    "version": 3
   },
   "file_extension": ".py",
   "mimetype": "text/x-python",
   "name": "python",
   "nbconvert_exporter": "python",
   "pygments_lexer": "ipython3",
   "version": "3.10.7"
  }
 },
 "nbformat": 4,
 "nbformat_minor": 2
}
